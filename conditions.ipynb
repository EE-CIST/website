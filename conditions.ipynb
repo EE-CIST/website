{
  "cells": [
    {
      "cell_type": "raw",
      "metadata": {},
      "source": [
        "---\n",
        "title: \"Conditions d'utilisation\"\n",
        "code-copy: true\n",
        "---"
      ],
      "id": "9c3a9b06"
    },
    {
      "cell_type": "markdown",
      "metadata": {},
      "source": [
        "## Conditions générales\n",
        "\n",
        "L'ensemble des ressources présentées sur ce site web (cours, exercices, bases de données) peuvent être librement utilisés dans les conditions prévues par la licence Creative Commons CC BY-SA 4.0 Deed\n",
        "\n",
        "## Propriété intellectuelle des modules\n",
        "\n",
        "Chaque module de cours est considéré comme équivalent à un article scientifique dont vous devez citer les auteurs et la source en ajoutant le DOI. Par exemple pour citer le module de statistique univariée, vous devrez utiliser :\n",
        "\n",
        "\n",
        "```{markdown}\n",
        "**GARNIER Bénédicte, YAGNINIM Malb Ama N'Danida, DAMENOU Sèïvè Ermine Armande, 2023,** « EXP1 : Statistiques univariées », in. EECIST 2022-2023, *Méthodes et outils des sciences territoriales : une perspective Nord-Sud, Sud-Nord et Sud-Sud,* https://doi.org/10.400/eecict.004\n",
        "}\n",
        "```"
      ],
      "id": "af05a2ab"
    }
  ],
  "metadata": {
    "kernelspec": {
      "name": "python3",
      "language": "python",
      "display_name": "Python 3 (ipykernel)"
    }
  },
  "nbformat": 4,
  "nbformat_minor": 5
}